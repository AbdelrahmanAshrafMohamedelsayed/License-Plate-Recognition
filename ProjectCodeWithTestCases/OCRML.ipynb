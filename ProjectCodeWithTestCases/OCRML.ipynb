{
 "cells": [
  {
   "attachments": {},
   "cell_type": "markdown",
   "metadata": {},
   "source": [
    "# OCR By Machine Learning"
   ]
  },
  {
   "cell_type": "code",
   "execution_count": 5,
   "metadata": {},
   "outputs": [],
   "source": [
    "import numpy as np\n",
    "import cv2\n",
    "import csv\n",
    "import glob\n",
    "import matplotlib.pyplot as plt\n",
    "import pandas as pd\n",
    "from sklearn.utils import shuffle\n",
    "from sklearn.model_selection import train_test_split\n",
    "import joblib\n",
    "from sklearn.svm import SVC\n",
    "from sklearn import metrics\n",
    "from commonFunctions import *\n",
    "%matplotlib inline"
   ]
  },
  {
   "cell_type": "code",
   "execution_count": 2,
   "metadata": {},
   "outputs": [
    {
     "data": {
      "image/png": "[encoded data removed]",
      "text/plain": [
       "<Figure size 640x480 with 1 Axes>"
      ]
     },
     "metadata": {},
     "output_type": "display_data"
    },
    {
     "data": {
      "image/png": "[encoded data removed]",
      "text/plain": [
       "<Figure size 640x480 with 1 Axes>"
      ]
     },
     "metadata": {},
     "output_type": "display_data"
    }
   ],
   "source": [
    "img = cv2.imread('./CharacterImages/L0.png', cv2.IMREAD_GRAYSCALE)\n",
    "plt.imshow(img, cmap='gray')\n",
    "plt.show()\n",
    "hog = Hog_descriptor(img, cell_size=4, bin_size=9)\n",
    "vector, image = hog.extract()\n",
    "plt.imshow(image, cmap='gray')\n",
    "plt.show()"
   ]
  },
  {
   "cell_type": "code",
   "execution_count": 3,
   "metadata": {},
   "outputs": [],
   "source": [
    "arr = [\"0\",\"1\",\"2\",\"3\",\"4\",\"5\",\"6\",\"7\",\"8\",\"9\",\"A\",\"B\",\"C\",\"D\",\"E\",\"F\",\"G\",\"H\",\"I\",\"J\",\"K\",\"L\",\"M\",\"N\",\"O\",\"P\",\"Q\",\"R\",\"S\",\"T\",\"U\",\"V\",\"W\",\"X\",\"Y\",\"Z\"]"
   ]
  },
  {
   "cell_type": "code",
   "execution_count": 4,
   "metadata": {},
   "outputs": [],
   "source": [
    "data=[]\n",
    "hog_features = []\n",
    "for label in arr:\n",
    "    dirList = glob.glob(\"letter Dataset/\"+str(label)+\"/*.jpg\")\n",
    "    \n",
    "    for img_path in dirList:\n",
    "        im= cv2.imread(img_path)\n",
    "        im_gray = cv2.cvtColor(im,cv2.COLOR_BGR2GRAY)\n",
    "        im_gray = cv2.GaussianBlur(im_gray,(15,15), 0)\n",
    "        roi= cv2.resize(im_gray,(28,28), interpolation=cv2.INTER_AREA)\n",
    "        \n",
    "        rows, cols = roi.shape\n",
    "        \n",
    "        ## Add pixel one by one into data array\n",
    "        for i in range(rows):\n",
    "            for j in range(cols):\n",
    "                k =roi[i,j]\n",
    "                if k>100:\n",
    "                    k=1\n",
    "                else:\n",
    "                    k=0\n",
    "        \n",
    "        hog = Hog_descriptor(roi, cell_size=4, bin_size=9)\n",
    "        vector, image = hog.extract()\n",
    "        vec = np.array(vector)\n",
    "        hog_features.append(vec.flatten())\n",
    "        data.append(label)"
   ]
  },
  {
   "cell_type": "code",
   "execution_count": 5,
   "metadata": {},
   "outputs": [],
   "source": [
    "train_x,test_x,train_y,test_y = train_test_split(hog_features,data, test_size = 0.2)"
   ]
  },
  {
   "cell_type": "code",
   "execution_count": 6,
   "metadata": {},
   "outputs": [
    {
     "data": {
      "text/plain": [
       "['model/char_rec']"
      ]
     },
     "execution_count": 6,
     "metadata": {},
     "output_type": "execute_result"
    }
   ],
   "source": [
    "classifier=SVC(kernel=\"linear\", random_state=6)\n",
    "classifier.fit(train_x,train_y)\n",
    "joblib.dump(classifier, \"model/char_rec\")"
   ]
  },
  {
   "cell_type": "code",
   "execution_count": 7,
   "metadata": {},
   "outputs": [
    {
     "name": "stdout",
     "output_type": "stream",
     "text": [
      "Accuracy=  0.9998591549295774\n",
      "Precision=  0.9998598962194217\n",
      "Recall=  0.9998591549295774\n",
      "F1 Score=  0.9998591781023665\n",
      "Confusion Matrix=  [[216   0   0 ...   0   0   0]\n",
      " [  0 203   0 ...   0   0   0]\n",
      " [  0   0 206 ...   0   0   0]\n",
      " ...\n",
      " [  0   0   0 ... 204   0   0]\n",
      " [  0   0   0 ...   0 212   0]\n",
      " [  0   0   0 ...   0   0 177]]\n",
      "Classification Report=                precision    recall  f1-score   support\n",
      "\n",
      "           0       1.00      1.00      1.00       217\n",
      "           1       1.00      1.00      1.00       203\n",
      "           2       1.00      1.00      1.00       206\n",
      "           3       1.00      1.00      1.00       216\n",
      "           4       1.00      1.00      1.00       208\n",
      "           5       1.00      1.00      1.00       198\n",
      "           6       1.00      1.00      1.00       208\n",
      "           7       1.00      1.00      1.00       202\n",
      "           8       1.00      1.00      1.00       222\n",
      "           9       1.00      1.00      1.00       207\n",
      "           A       1.00      1.00      1.00       212\n",
      "           B       1.00      1.00      1.00       201\n",
      "           C       1.00      1.00      1.00       219\n",
      "           D       1.00      1.00      1.00       199\n",
      "           E       1.00      1.00      1.00       191\n",
      "           F       1.00      1.00      1.00       209\n",
      "           G       1.00      1.00      1.00       210\n",
      "           H       1.00      1.00      1.00       199\n",
      "           I       1.00      1.00      1.00       207\n",
      "           J       1.00      1.00      1.00       191\n",
      "           K       1.00      1.00      1.00       186\n",
      "           L       1.00      1.00      1.00       211\n",
      "           M       1.00      1.00      1.00       201\n",
      "           N       1.00      1.00      1.00       197\n",
      "           P       1.00      1.00      1.00       200\n",
      "           Q       0.99      1.00      1.00       189\n",
      "           R       1.00      1.00      1.00       192\n",
      "           S       1.00      1.00      1.00       209\n",
      "           T       1.00      1.00      1.00       191\n",
      "           U       1.00      1.00      1.00       194\n",
      "           V       1.00      1.00      1.00       210\n",
      "           W       1.00      1.00      1.00       202\n",
      "           X       1.00      1.00      1.00       204\n",
      "           Y       1.00      1.00      1.00       212\n",
      "           Z       1.00      1.00      1.00       177\n",
      "\n",
      "    accuracy                           1.00      7100\n",
      "   macro avg       1.00      1.00      1.00      7100\n",
      "weighted avg       1.00      1.00      1.00      7100\n",
      "\n"
     ]
    }
   ],
   "source": [
    "prediction=classifier.predict(test_x)\n",
    "print(\"Accuracy= \",metrics.accuracy_score(prediction, test_y))\n",
    "print(\"Precision= \",metrics.precision_score(prediction, test_y, average='weighted'))\n",
    "print(\"Recall= \",metrics.recall_score(prediction, test_y, average='weighted'))\n",
    "print(\"F1 Score= \",metrics.f1_score(prediction, test_y, average='weighted'))\n",
    "print(\"Confusion Matrix= \",metrics.confusion_matrix(prediction, test_y))\n",
    "print(\"Classification Report= \",metrics.classification_report(prediction, test_y))"
   ]
  },
  {
   "cell_type": "code",
   "execution_count": 6,
   "metadata": {},
   "outputs": [],
   "source": [
    "def read_img(img):\n",
    "    im_gray = cv2.cvtColor(img,cv2.COLOR_BGR2GRAY)\n",
    "    im_gray = cv2.GaussianBlur(im_gray,(15,15), 0)\n",
    "    roi= cv2.resize(im_gray,(28,28), interpolation=cv2.INTER_AREA)\n",
    "    \n",
    "    rows, cols = roi.shape\n",
    "    \n",
    "    ## Add pixel one by one into data array\n",
    "    for i in range(rows):\n",
    "        for j in range(cols):\n",
    "            k =roi[i,j]\n",
    "            if k>100:\n",
    "                k=1\n",
    "            else:\n",
    "                k=0\n",
    "    \n",
    "        hog = Hog_descriptor(roi, cell_size=4, bin_size=9)\n",
    "        vector, image = hog.extract()\n",
    "        vec = np.array(vector)\n",
    "        return vec.flatten()"
   ]
  },
  {
   "cell_type": "code",
   "execution_count": 2,
   "metadata": {},
   "outputs": [],
   "source": [
    "model=joblib.load(\"model/char_rec\")"
   ]
  },
  {
   "cell_type": "code",
   "execution_count": 16,
   "metadata": {},
   "outputs": [],
   "source": [
    "im = cv2.imread(\"CharacterImages/L1.png\")\n",
    "hogTest = read_img(im)"
   ]
  },
  {
   "cell_type": "code",
   "execution_count": 17,
   "metadata": {},
   "outputs": [
    {
     "name": "stdout",
     "output_type": "stream",
     "text": [
      "Prediction: L\n",
      "['L']\n",
      "done\n"
     ]
    },
    {
     "data": {
      "image/png": "[encoded data removed]",
      "text/plain": [
       "<Figure size 640x480 with 1 Axes>"
      ]
     },
     "metadata": {},
     "output_type": "display_data"
    }
   ],
   "source": [
    "predictions  =model.predict([hogTest])\n",
    "print(\"Prediction:\",predictions[0])\n",
    "# cv2.putText(im, \"Prediction is: \"+str(predictions[0]), (20,20), 0, 0.8,(0,255,0),2,cv2.LINE_AA)\n",
    "print(predictions)\n",
    "print(\"done\")\n",
    "show_images([im])"
   ]
  },
  {
   "cell_type": "code",
   "execution_count": 30,
   "metadata": {},
   "outputs": [
    {
     "name": "stdout",
     "output_type": "stream",
     "text": [
      "Prediction: 0\n",
      "True Label: 0\n",
      "Correct\n",
      "Prediction: I\n",
      "True Label: 1\n",
      "Incorrect\n",
      "Prediction: 1\n",
      "True Label: 1\n",
      "Correct\n",
      "Prediction: 1\n",
      "True Label: 1\n",
      "Correct\n",
      "Prediction: 2\n",
      "True Label: 2\n",
      "Correct\n",
      "Prediction: 2\n",
      "True Label: 2\n",
      "Correct\n",
      "Prediction: 2\n",
      "True Label: 2\n",
      "Correct\n",
      "Prediction: 3\n",
      "True Label: 3\n",
      "Correct\n",
      "Prediction: 3\n",
      "True Label: 3\n",
      "Correct\n",
      "Prediction: 5\n",
      "True Label: 5\n",
      "Correct\n",
      "Prediction: 5\n",
      "True Label: 5\n",
      "Correct\n",
      "Prediction: 6\n",
      "True Label: 6\n",
      "Correct\n",
      "Prediction: 7\n",
      "True Label: 7\n",
      "Correct\n",
      "Prediction: 7\n",
      "True Label: 7\n",
      "Correct\n",
      "Prediction: A\n",
      "True Label: A\n",
      "Correct\n",
      "Prediction: B\n",
      "True Label: B\n",
      "Correct\n",
      "Prediction: C\n",
      "True Label: C\n",
      "Correct\n",
      "Prediction: D\n",
      "True Label: D\n",
      "Correct\n",
      "Prediction: D\n",
      "True Label: D\n",
      "Correct\n",
      "Prediction: E\n",
      "True Label: E\n",
      "Correct\n",
      "Prediction: E\n",
      "True Label: E\n",
      "Correct\n",
      "Prediction: G\n",
      "True Label: G\n",
      "Correct\n",
      "Prediction: H\n",
      "True Label: H\n",
      "Correct\n",
      "Prediction: A\n",
      "True Label: J\n",
      "Incorrect\n",
      "Prediction: K\n",
      "True Label: K\n",
      "Correct\n",
      "Prediction: K\n",
      "True Label: K\n",
      "Correct\n",
      "Prediction: L\n",
      "True Label: L\n",
      "Correct\n",
      "Prediction: L\n",
      "True Label: L\n",
      "Correct\n",
      "Prediction: M\n",
      "True Label: M\n",
      "Correct\n",
      "Prediction: M\n",
      "True Label: M\n",
      "Correct\n",
      "Prediction: W\n",
      "True Label: M\n",
      "Incorrect\n",
      "Prediction: N\n",
      "True Label: N\n",
      "Correct\n",
      "Prediction: P\n",
      "True Label: P\n",
      "Correct\n",
      "Prediction: P\n",
      "True Label: P\n",
      "Correct\n",
      "Prediction: R\n",
      "True Label: R\n",
      "Correct\n",
      "Prediction: S\n",
      "True Label: S\n",
      "Correct\n",
      "Prediction: T\n",
      "True Label: T\n",
      "Correct\n",
      "Prediction: T\n",
      "True Label: T\n",
      "Correct\n",
      "Prediction: V\n",
      "True Label: W\n",
      "Incorrect\n",
      "Prediction: Z\n",
      "True Label: Z\n",
      "Correct\n",
      "correct: 36 total: 40\n",
      "Accuracy: 90.0 %\n"
     ]
    }
   ],
   "source": [
    "dirList = glob.glob(\"CharacterImages/*.png\")\n",
    "count = 0\n",
    "for img_path in dirList:\n",
    "    chars = img_path.split(\"\\\\\")[-1]\n",
    "    im= cv2.imread(img_path)\n",
    "    imgHoG = read_img(im)\n",
    "    predictions  =model.predict([imgHoG])\n",
    "    if(predictions[0] == chars[0]):\n",
    "        print(\"Prediction:\",predictions[0])\n",
    "        print(\"True Label:\",chars[0])\n",
    "        print(\"Correct\")\n",
    "        count += 1\n",
    "    else:\n",
    "        print(\"Prediction:\",predictions[0])\n",
    "        print(\"True Label:\",chars[0])\n",
    "        print(\"Incorrect\")\n",
    "print(\"correct:\",count,\"total:\",len(dirList))\n",
    "print(\"Accuracy:\",count/len(dirList)*100,\"%\")"
   ]
  },
  {
   "cell_type": "code",
   "execution_count": null,
   "metadata": {},
   "outputs": [],
   "source": []
  }
 ],
 "metadata": {
  "kernelspec": {
   "display_name": "Python 3",
   "language": "python",
   "name": "python3"
  },
  "language_info": {
   "codemirror_mode": {
    "name": "ipython",
    "version": 3
   },
   "file_extension": ".py",
   "mimetype": "text/x-python",
   "name": "python",
   "nbconvert_exporter": "python",
   "pygments_lexer": "ipython3",
   "version": "3.10.8"
  },
  "orig_nbformat": 4,
  "vscode": {
   "interpreter": {
    "hash": "936928c2ddde0b65a0f37be651c36e10964fc87deab2be0d9d2301d27ccb4291"
   }
  }
 },
 "nbformat": 4,
 "nbformat_minor": 2
}
